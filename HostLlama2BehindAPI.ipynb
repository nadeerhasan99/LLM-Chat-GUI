{
 "cells": [
  {
   "cell_type": "markdown",
   "metadata": {
    "id": "bznyRLfLg750"
   },
   "source": [
    "# **Hosting Llama 2 with Free GPU via Google Collab**"
   ]
  },
  {
   "cell_type": "markdown",
   "metadata": {
    "id": "HRDd_-CFIqRV"
   },
   "source": [
    "**Before getting started, if running on Google Colab, check that the runtime is set to T4 GPU**"
   ]
  },
  {
   "cell_type": "code",
   "execution_count": 1,
   "metadata": {
    "colab": {
     "base_uri": "https://localhost:8080/"
    },
    "id": "Kxx3xpr2cXHS",
    "outputId": "1b999780-25d2-4dcc-afdf-554b2c461c10"
   },
   "outputs": [
    {
     "name": "stderr",
     "output_type": "stream",
     "text": [
      "The system cannot find the path specified.\n"
     ]
    }
   ],
   "source": [
    "# This downloads and sets up the Ngrok executable in the Google Colab instance\n",
    "!curl -sSL https://ngrok-agent.s3.amazonaws.com/ngrok.asc | sudo tee /etc/apt/trusted.gpg.d/ngrok.asc >/dev/null && echo \"deb https://ngrok-agent.s3.amazonaws.com buster main\" | sudo tee /etc/apt/sources.list.d/ngrok.list && sudo apt update && sudo apt install ngrok"
   ]
  },
  {
   "cell_type": "markdown",
   "metadata": {
    "id": "kU0GYiR4hWKJ"
   },
   "source": [
    "## Install Dependencies\n",
    "- Requirements for running FastAPI Server\n",
    "- Requirements for creating a public model serving URL via Ngrok\n",
    "- Requirements for running Llama2 13B (including Quantization)\n"
   ]
  },
  {
   "cell_type": "code",
   "execution_count": 2,
   "metadata": {
    "colab": {
     "base_uri": "https://localhost:8080/"
    },
    "id": "gDVaaatLEpzq",
    "outputId": "229d538a-8929-4bd1-cd91-8c904470c70f"
   },
   "outputs": [
    {
     "name": "stdout",
     "output_type": "stream",
     "text": [
      "Collecting llama-cpp-python"
     ]
    },
    {
     "name": "stderr",
     "output_type": "stream",
     "text": [
      "  error: subprocess-exited-with-error\n",
      "  \n",
      "  Building wheel for llama-cpp-python (pyproject.toml) did not run successfully.\n",
      "  exit code: 1\n",
      "  \n",
      "  [20 lines of output]\n",
      "  \u001b[32m*** \u001b[1mscikit-build-core 0.10.7\u001b[0m using \u001b[34mCMake 3.30.3\u001b[39m\u001b[0m \u001b[31m(wheel)\u001b[0m\n",
      "  \u001b[32m***\u001b[0m \u001b[1mConfiguring CMake...\u001b[0m\n",
      "  2024-10-09 14:02:44,755 - scikit_build_core - WARNING - Can't find a Python library, got libdir=None, ldlibrary=None, multiarch=None, masd=None\n",
      "  loading initial cache file C:\\Users\\nadee\\AppData\\Local\\Temp\\tmpj9uejq4w\\build\\CMakeInit.txt\n",
      "  -- Building for: NMake Makefiles\n",
      "  CMake Error at CMakeLists.txt:3 (project):\n",
      "    Running\n",
      "  \n",
      "     'nmake' '-?'\n",
      "  \n",
      "    failed with:\n",
      "  \n",
      "     no such file or directory\n",
      "  \n",
      "  \n",
      "  CMake Error: CMAKE_C_COMPILER not set, after EnableLanguage\n",
      "  CMake Error: CMAKE_CXX_COMPILER not set, after EnableLanguage\n",
      "  -- Configuring incomplete, errors occurred!\n",
      "  \u001b[31m\n",
      "  \u001b[1m***\u001b[0m \u001b[31mCMake configuration failed\u001b[0m\n",
      "  [end of output]\n",
      "  \n",
      "  note: This error originates from a subprocess, and is likely not a problem with pip.\n",
      "  ERROR: Failed building wheel for llama-cpp-python\n",
      "ERROR: ERROR: Failed to build installable wheels for some pyproject.toml based projects (llama-cpp-python)\n"
     ]
    },
    {
     "name": "stdout",
     "output_type": "stream",
     "text": [
      "\n",
      "  Downloading llama_cpp_python-0.3.1.tar.gz (63.9 MB)\n",
      "     ---------------------------------------- 0.0/63.9 MB ? eta -:--:--\n",
      "      --------------------------------------- 1.0/63.9 MB 7.1 MB/s eta 0:00:09\n",
      "     - -------------------------------------- 2.9/63.9 MB 8.4 MB/s eta 0:00:08\n",
      "     --- ------------------------------------ 5.0/63.9 MB 9.1 MB/s eta 0:00:07\n",
      "     --- ------------------------------------ 6.3/63.9 MB 8.6 MB/s eta 0:00:07\n",
      "     ---- ----------------------------------- 7.9/63.9 MB 8.2 MB/s eta 0:00:07\n",
      "     ----- ---------------------------------- 9.2/63.9 MB 7.9 MB/s eta 0:00:07\n",
      "     ------ --------------------------------- 10.5/63.9 MB 7.7 MB/s eta 0:00:07\n",
      "     ------- -------------------------------- 12.1/63.9 MB 7.7 MB/s eta 0:00:07\n",
      "     -------- ------------------------------- 13.9/63.9 MB 7.9 MB/s eta 0:00:07\n",
      "     --------- ------------------------------ 15.5/63.9 MB 7.8 MB/s eta 0:00:07\n",
      "     ---------- ----------------------------- 16.5/63.9 MB 7.6 MB/s eta 0:00:07\n",
      "     ---------- ----------------------------- 17.6/63.9 MB 7.3 MB/s eta 0:00:07\n",
      "     ----------- ---------------------------- 18.6/63.9 MB 7.2 MB/s eta 0:00:07\n",
      "     ------------ --------------------------- 19.9/63.9 MB 7.1 MB/s eta 0:00:07\n",
      "     ------------- -------------------------- 21.2/63.9 MB 7.1 MB/s eta 0:00:07\n",
      "     -------------- ------------------------- 22.5/63.9 MB 7.1 MB/s eta 0:00:06\n",
      "     --------------- ------------------------ 24.1/63.9 MB 7.1 MB/s eta 0:00:06\n",
      "     --------------- ------------------------ 25.2/63.9 MB 7.0 MB/s eta 0:00:06\n",
      "     ---------------- ----------------------- 26.0/63.9 MB 6.9 MB/s eta 0:00:06\n",
      "     ---------------- ----------------------- 26.7/63.9 MB 6.7 MB/s eta 0:00:06\n",
      "     ----------------- ---------------------- 27.5/63.9 MB 6.6 MB/s eta 0:00:06\n",
      "     ----------------- ---------------------- 28.6/63.9 MB 6.5 MB/s eta 0:00:06\n",
      "     ------------------ --------------------- 29.9/63.9 MB 6.5 MB/s eta 0:00:06\n",
      "     ------------------- -------------------- 31.2/63.9 MB 6.5 MB/s eta 0:00:06\n",
      "     ------------------- -------------------- 31.7/63.9 MB 6.4 MB/s eta 0:00:06\n",
      "     -------------------- ------------------- 32.5/63.9 MB 6.2 MB/s eta 0:00:06\n",
      "     --------------------- ------------------ 33.6/63.9 MB 6.2 MB/s eta 0:00:05\n",
      "     --------------------- ------------------ 34.3/63.9 MB 6.1 MB/s eta 0:00:05\n",
      "     --------------------- ------------------ 34.6/63.9 MB 6.1 MB/s eta 0:00:05\n",
      "     --------------------- ------------------ 35.1/63.9 MB 5.9 MB/s eta 0:00:05\n",
      "     --------------------- ------------------ 35.1/63.9 MB 5.9 MB/s eta 0:00:05\n",
      "     ---------------------- ----------------- 35.4/63.9 MB 5.6 MB/s eta 0:00:06\n",
      "     ---------------------- ----------------- 35.4/63.9 MB 5.6 MB/s eta 0:00:06\n",
      "     ---------------------- ----------------- 35.4/63.9 MB 5.6 MB/s eta 0:00:06\n",
      "     ---------------------- ----------------- 35.4/63.9 MB 5.6 MB/s eta 0:00:06\n",
      "     ---------------------- ----------------- 35.7/63.9 MB 5.0 MB/s eta 0:00:06\n",
      "     ---------------------- ----------------- 35.7/63.9 MB 5.0 MB/s eta 0:00:06\n",
      "     ---------------------- ----------------- 35.7/63.9 MB 5.0 MB/s eta 0:00:06\n",
      "     ---------------------- ----------------- 35.7/63.9 MB 5.0 MB/s eta 0:00:06\n",
      "     ---------------------- ----------------- 35.9/63.9 MB 4.4 MB/s eta 0:00:07\n",
      "     ---------------------- ----------------- 35.9/63.9 MB 4.4 MB/s eta 0:00:07\n",
      "     ---------------------- ----------------- 35.9/63.9 MB 4.4 MB/s eta 0:00:07\n",
      "     ---------------------- ----------------- 36.2/63.9 MB 4.2 MB/s eta 0:00:07\n",
      "     ---------------------- ----------------- 36.2/63.9 MB 4.2 MB/s eta 0:00:07\n",
      "     ---------------------- ----------------- 36.4/63.9 MB 4.1 MB/s eta 0:00:07\n",
      "     ---------------------- ----------------- 36.4/63.9 MB 4.1 MB/s eta 0:00:07\n",
      "     ---------------------- ----------------- 36.7/63.9 MB 3.8 MB/s eta 0:00:08\n",
      "     ---------------------- ----------------- 36.7/63.9 MB 3.8 MB/s eta 0:00:08\n",
      "     ----------------------- ---------------- 37.0/63.9 MB 3.8 MB/s eta 0:00:08\n",
      "     ----------------------- ---------------- 37.2/63.9 MB 3.7 MB/s eta 0:00:08\n",
      "     ----------------------- ---------------- 37.5/63.9 MB 3.6 MB/s eta 0:00:08\n",
      "     ----------------------- ---------------- 37.7/63.9 MB 3.6 MB/s eta 0:00:08\n",
      "     ----------------------- ---------------- 37.7/63.9 MB 3.6 MB/s eta 0:00:08\n",
      "     ----------------------- ---------------- 38.0/63.9 MB 3.5 MB/s eta 0:00:08\n",
      "     ----------------------- ---------------- 38.3/63.9 MB 3.5 MB/s eta 0:00:08\n",
      "     ----------------------- ---------------- 38.3/63.9 MB 3.5 MB/s eta 0:00:08\n",
      "     ------------------------ --------------- 38.5/63.9 MB 3.4 MB/s eta 0:00:08\n",
      "     ------------------------ --------------- 38.8/63.9 MB 3.3 MB/s eta 0:00:08\n",
      "     ------------------------ --------------- 39.1/63.9 MB 3.3 MB/s eta 0:00:08\n",
      "     ------------------------ --------------- 39.3/63.9 MB 3.3 MB/s eta 0:00:08\n",
      "     ------------------------ --------------- 39.6/63.9 MB 3.2 MB/s eta 0:00:08\n",
      "     ------------------------ --------------- 39.6/63.9 MB 3.2 MB/s eta 0:00:08\n",
      "     ------------------------ --------------- 39.8/63.9 MB 3.1 MB/s eta 0:00:08\n",
      "     ------------------------ --------------- 39.8/63.9 MB 3.1 MB/s eta 0:00:08\n",
      "     ------------------------ --------------- 39.8/63.9 MB 3.1 MB/s eta 0:00:08\n",
      "     ------------------------ --------------- 39.8/63.9 MB 3.1 MB/s eta 0:00:08\n",
      "     ------------------------ --------------- 39.8/63.9 MB 3.1 MB/s eta 0:00:08\n",
      "     ------------------------ --------------- 39.8/63.9 MB 3.1 MB/s eta 0:00:08\n",
      "     ------------------------ --------------- 39.8/63.9 MB 3.1 MB/s eta 0:00:08\n",
      "     ------------------------ --------------- 39.8/63.9 MB 3.1 MB/s eta 0:00:08\n",
      "     ------------------------ --------------- 39.8/63.9 MB 3.1 MB/s eta 0:00:08\n",
      "     ------------------------- -------------- 40.1/63.9 MB 2.7 MB/s eta 0:00:09\n",
      "     ------------------------- -------------- 40.1/63.9 MB 2.7 MB/s eta 0:00:09\n",
      "     ------------------------- -------------- 40.1/63.9 MB 2.7 MB/s eta 0:00:09\n",
      "     ------------------------- -------------- 40.4/63.9 MB 2.6 MB/s eta 0:00:09\n",
      "     ------------------------- -------------- 40.4/63.9 MB 2.6 MB/s eta 0:00:09\n",
      "     ------------------------- -------------- 40.6/63.9 MB 2.6 MB/s eta 0:00:09\n",
      "     ------------------------- -------------- 40.6/63.9 MB 2.6 MB/s eta 0:00:09\n",
      "     ------------------------- -------------- 40.9/63.9 MB 2.6 MB/s eta 0:00:09\n",
      "     ------------------------- -------------- 41.2/63.9 MB 2.5 MB/s eta 0:00:10\n",
      "     ------------------------- -------------- 41.2/63.9 MB 2.5 MB/s eta 0:00:10\n",
      "     ------------------------- -------------- 41.4/63.9 MB 2.5 MB/s eta 0:00:10\n",
      "     ------------------------- -------------- 41.4/63.9 MB 2.5 MB/s eta 0:00:10\n",
      "     -------------------------- ------------- 41.7/63.9 MB 2.4 MB/s eta 0:00:10\n",
      "     -------------------------- ------------- 41.9/63.9 MB 2.4 MB/s eta 0:00:10\n",
      "     -------------------------- ------------- 41.9/63.9 MB 2.4 MB/s eta 0:00:10\n",
      "     -------------------------- ------------- 42.2/63.9 MB 2.4 MB/s eta 0:00:10\n",
      "     -------------------------- ------------- 42.2/63.9 MB 2.4 MB/s eta 0:00:10\n",
      "     -------------------------- ------------- 42.5/63.9 MB 2.3 MB/s eta 0:00:10\n",
      "     -------------------------- ------------- 42.5/63.9 MB 2.3 MB/s eta 0:00:10\n",
      "     -------------------------- ------------- 42.5/63.9 MB 2.3 MB/s eta 0:00:10\n",
      "     -------------------------- ------------- 42.7/63.9 MB 2.3 MB/s eta 0:00:10\n",
      "     -------------------------- ------------- 43.0/63.9 MB 2.3 MB/s eta 0:00:10\n",
      "     -------------------------- ------------- 43.0/63.9 MB 2.3 MB/s eta 0:00:10\n",
      "     --------------------------- ------------ 43.3/63.9 MB 2.2 MB/s eta 0:00:10\n",
      "     --------------------------- ------------ 43.5/63.9 MB 2.2 MB/s eta 0:00:10\n",
      "     --------------------------- ------------ 43.5/63.9 MB 2.2 MB/s eta 0:00:10\n",
      "     --------------------------- ------------ 43.8/63.9 MB 2.2 MB/s eta 0:00:10\n",
      "     --------------------------- ------------ 43.8/63.9 MB 2.2 MB/s eta 0:00:10\n",
      "     --------------------------- ------------ 44.0/63.9 MB 2.2 MB/s eta 0:00:10\n",
      "     --------------------------- ------------ 44.3/63.9 MB 2.2 MB/s eta 0:00:10\n",
      "     --------------------------- ------------ 44.6/63.9 MB 2.2 MB/s eta 0:00:09\n",
      "     ---------------------------- ----------- 44.8/63.9 MB 2.1 MB/s eta 0:00:09\n",
      "     ---------------------------- ----------- 45.1/63.9 MB 2.1 MB/s eta 0:00:09\n",
      "     ---------------------------- ----------- 45.1/63.9 MB 2.1 MB/s eta 0:00:09\n",
      "     ---------------------------- ----------- 45.1/63.9 MB 2.1 MB/s eta 0:00:09\n",
      "     ---------------------------- ----------- 45.4/63.9 MB 2.1 MB/s eta 0:00:09\n",
      "     ---------------------------- ----------- 45.4/63.9 MB 2.1 MB/s eta 0:00:09\n",
      "     ---------------------------- ----------- 45.4/63.9 MB 2.1 MB/s eta 0:00:09\n",
      "     ---------------------------- ----------- 45.6/63.9 MB 2.0 MB/s eta 0:00:09\n",
      "     ---------------------------- ----------- 45.9/63.9 MB 2.0 MB/s eta 0:00:09\n",
      "     ---------------------------- ----------- 46.1/63.9 MB 2.0 MB/s eta 0:00:09\n",
      "     ----------------------------- ---------- 46.4/63.9 MB 2.0 MB/s eta 0:00:09\n",
      "     ----------------------------- ---------- 46.9/63.9 MB 2.0 MB/s eta 0:00:09\n",
      "     ----------------------------- ---------- 47.2/63.9 MB 2.0 MB/s eta 0:00:09\n",
      "     ----------------------------- ---------- 47.7/63.9 MB 2.0 MB/s eta 0:00:09\n",
      "     ------------------------------ --------- 48.0/63.9 MB 2.0 MB/s eta 0:00:08\n",
      "     ------------------------------ --------- 48.5/63.9 MB 2.0 MB/s eta 0:00:08\n",
      "     ------------------------------ --------- 48.8/63.9 MB 2.0 MB/s eta 0:00:08\n",
      "     ------------------------------ --------- 49.0/63.9 MB 2.0 MB/s eta 0:00:08\n",
      "     ------------------------------ --------- 49.3/63.9 MB 2.0 MB/s eta 0:00:08\n",
      "     ------------------------------- -------- 49.5/63.9 MB 2.0 MB/s eta 0:00:08\n",
      "     ------------------------------- -------- 49.8/63.9 MB 2.0 MB/s eta 0:00:08\n",
      "     ------------------------------- -------- 50.1/63.9 MB 2.0 MB/s eta 0:00:07\n",
      "     ------------------------------- -------- 50.3/63.9 MB 2.0 MB/s eta 0:00:07\n",
      "     ------------------------------- -------- 50.6/63.9 MB 2.0 MB/s eta 0:00:07\n",
      "     ------------------------------- -------- 50.6/63.9 MB 2.0 MB/s eta 0:00:07\n",
      "     ------------------------------- -------- 51.1/63.9 MB 2.0 MB/s eta 0:00:07\n",
      "     -------------------------------- ------- 51.6/63.9 MB 2.0 MB/s eta 0:00:07\n",
      "     -------------------------------- ------- 51.9/63.9 MB 2.0 MB/s eta 0:00:07\n",
      "     -------------------------------- ------- 52.2/63.9 MB 2.0 MB/s eta 0:00:07\n",
      "     -------------------------------- ------- 52.7/63.9 MB 2.0 MB/s eta 0:00:06\n",
      "     --------------------------------- ------ 53.0/63.9 MB 1.9 MB/s eta 0:00:06\n",
      "     --------------------------------- ------ 53.0/63.9 MB 1.9 MB/s eta 0:00:06\n",
      "     --------------------------------- ------ 53.2/63.9 MB 1.9 MB/s eta 0:00:06\n",
      "     --------------------------------- ------ 53.5/63.9 MB 1.9 MB/s eta 0:00:06\n",
      "     --------------------------------- ------ 53.7/63.9 MB 1.9 MB/s eta 0:00:06\n",
      "     --------------------------------- ------ 54.3/63.9 MB 1.9 MB/s eta 0:00:06\n",
      "     ---------------------------------- ----- 54.5/63.9 MB 1.9 MB/s eta 0:00:05\n",
      "     ---------------------------------- ----- 54.8/63.9 MB 1.9 MB/s eta 0:00:05\n",
      "     ---------------------------------- ----- 55.3/63.9 MB 1.9 MB/s eta 0:00:05\n",
      "     ---------------------------------- ----- 55.6/63.9 MB 1.9 MB/s eta 0:00:05\n",
      "     ----------------------------------- ---- 56.1/63.9 MB 1.9 MB/s eta 0:00:05\n",
      "     ----------------------------------- ---- 56.4/63.9 MB 1.9 MB/s eta 0:00:04\n",
      "     ----------------------------------- ---- 56.4/63.9 MB 1.9 MB/s eta 0:00:04\n",
      "     ----------------------------------- ---- 56.4/63.9 MB 1.9 MB/s eta 0:00:04\n",
      "     ----------------------------------- ---- 56.6/63.9 MB 1.9 MB/s eta 0:00:04\n",
      "     ----------------------------------- ---- 56.6/63.9 MB 1.9 MB/s eta 0:00:04\n",
      "     ----------------------------------- ---- 56.6/63.9 MB 1.9 MB/s eta 0:00:04\n",
      "     ----------------------------------- ---- 56.9/63.9 MB 1.8 MB/s eta 0:00:04\n",
      "     ----------------------------------- ---- 56.9/63.9 MB 1.8 MB/s eta 0:00:04\n",
      "     ----------------------------------- ---- 57.1/63.9 MB 1.7 MB/s eta 0:00:05\n",
      "     ----------------------------------- ---- 57.1/63.9 MB 1.7 MB/s eta 0:00:05\n",
      "     ----------------------------------- ---- 57.1/63.9 MB 1.7 MB/s eta 0:00:05\n",
      "     ----------------------------------- ---- 57.4/63.9 MB 1.5 MB/s eta 0:00:05\n",
      "     ----------------------------------- ---- 57.4/63.9 MB 1.5 MB/s eta 0:00:05\n",
      "     ------------------------------------ --- 57.7/63.9 MB 1.4 MB/s eta 0:00:05\n",
      "     ------------------------------------ --- 57.7/63.9 MB 1.4 MB/s eta 0:00:05\n",
      "     ------------------------------------ --- 57.9/63.9 MB 1.3 MB/s eta 0:00:05\n",
      "     ------------------------------------ --- 57.9/63.9 MB 1.3 MB/s eta 0:00:05\n",
      "     ------------------------------------ --- 58.2/63.9 MB 1.3 MB/s eta 0:00:05\n",
      "     ------------------------------------ --- 58.5/63.9 MB 1.3 MB/s eta 0:00:05\n",
      "     ------------------------------------ --- 58.7/63.9 MB 1.2 MB/s eta 0:00:05\n",
      "     ------------------------------------- -- 59.2/63.9 MB 1.2 MB/s eta 0:00:04\n",
      "     ------------------------------------- -- 59.5/63.9 MB 1.2 MB/s eta 0:00:04\n",
      "     ------------------------------------- -- 59.8/63.9 MB 1.1 MB/s eta 0:00:04\n",
      "     ------------------------------------- -- 60.0/63.9 MB 1.1 MB/s eta 0:00:04\n",
      "     ------------------------------------- -- 60.6/63.9 MB 1.1 MB/s eta 0:00:04\n",
      "     ------------------------------------- -- 60.6/63.9 MB 1.1 MB/s eta 0:00:04\n",
      "     -------------------------------------- - 60.8/63.9 MB 1.0 MB/s eta 0:00:03\n",
      "     -------------------------------------- - 60.8/63.9 MB 1.0 MB/s eta 0:00:03\n",
      "     ------------------------------------ - 61.1/63.9 MB 971.4 kB/s eta 0:00:03\n",
      "     ------------------------------------ - 61.3/63.9 MB 953.4 kB/s eta 0:00:03\n",
      "     ------------------------------------ - 61.6/63.9 MB 935.5 kB/s eta 0:00:03\n",
      "     ------------------------------------ - 62.1/63.9 MB 918.9 kB/s eta 0:00:02\n",
      "     -------------------------------------  62.4/63.9 MB 918.5 kB/s eta 0:00:02\n",
      "     -------------------------------------  62.4/63.9 MB 918.5 kB/s eta 0:00:02\n",
      "     -------------------------------------  62.4/63.9 MB 918.5 kB/s eta 0:00:02\n",
      "     -------------------------------------  62.7/63.9 MB 922.6 kB/s eta 0:00:02\n",
      "     -------------------------------------  62.7/63.9 MB 922.6 kB/s eta 0:00:02\n",
      "     -------------------------------------  62.7/63.9 MB 922.6 kB/s eta 0:00:02\n",
      "     -------------------------------------  62.7/63.9 MB 922.6 kB/s eta 0:00:02\n",
      "     -------------------------------------  62.7/63.9 MB 922.6 kB/s eta 0:00:02\n",
      "     -------------------------------------  62.7/63.9 MB 922.6 kB/s eta 0:00:02\n",
      "     -------------------------------------  62.9/63.9 MB 914.8 kB/s eta 0:00:02\n",
      "     -------------------------------------  63.2/63.9 MB 915.4 kB/s eta 0:00:01\n",
      "     -------------------------------------  63.4/63.9 MB 921.7 kB/s eta 0:00:01\n",
      "     -------------------------------------  63.4/63.9 MB 921.7 kB/s eta 0:00:01\n",
      "     -------------------------------------- 63.9/63.9 MB 929.1 kB/s eta 0:00:00\n",
      "  Installing build dependencies: started\n",
      "  Installing build dependencies: finished with status 'done'\n",
      "  Getting requirements to build wheel: started\n",
      "  Getting requirements to build wheel: finished with status 'done'\n",
      "  Preparing metadata (pyproject.toml): started\n",
      "  Preparing metadata (pyproject.toml): finished with status 'done'\n",
      "Requirement already satisfied: typing-extensions>=4.5.0 in c:\\users\\nadee\\anaconda3\\envs\\session2\\lib\\site-packages (from llama-cpp-python) (4.12.2)\n",
      "Requirement already satisfied: numpy>=1.20.0 in c:\\users\\nadee\\anaconda3\\envs\\session2\\lib\\site-packages (from llama-cpp-python) (2.0.1)\n",
      "Collecting diskcache>=5.6.1 (from llama-cpp-python)\n",
      "  Downloading diskcache-5.6.3-py3-none-any.whl.metadata (20 kB)\n",
      "Requirement already satisfied: jinja2>=2.11.3 in c:\\users\\nadee\\anaconda3\\envs\\session2\\lib\\site-packages (from llama-cpp-python) (3.1.4)\n",
      "Requirement already satisfied: MarkupSafe>=2.0 in c:\\users\\nadee\\anaconda3\\envs\\session2\\lib\\site-packages (from jinja2>=2.11.3->llama-cpp-python) (2.1.5)\n",
      "Downloading diskcache-5.6.3-py3-none-any.whl (45 kB)\n",
      "Building wheels for collected packages: llama-cpp-python\n",
      "  Building wheel for llama-cpp-python (pyproject.toml): started\n",
      "  Building wheel for llama-cpp-python (pyproject.toml): finished with status 'error'\n",
      "Failed to build llama-cpp-python\n"
     ]
    }
   ],
   "source": [
    "!set \"CMAKE_ARGS=-DLLAMA_OPENBLAS=on\"\n",
    "!set \"FORCE_CMAKE=1\"\n",
    "!pip install llama-cpp-python --no-cache-dir"
   ]
  },
  {
   "cell_type": "code",
   "execution_count": 11,
   "metadata": {
    "colab": {
     "base_uri": "https://localhost:8080/"
    },
    "id": "u24fGvOmT2Pi",
    "outputId": "da72469a-c8c8-4176-f227-0d98c3f1d306"
   },
   "outputs": [
    {
     "name": "stdout",
     "output_type": "stream",
     "text": [
      "Collecting uvicorn\n",
      "  Downloading uvicorn-0.31.0-py3-none-any.whl.metadata (6.6 kB)\n",
      "Collecting python-multipart\n",
      "  Downloading python_multipart-0.0.12-py3-none-any.whl.metadata (1.9 kB)\n",
      "Requirement already satisfied: transformers in /usr/local/lib/python3.10/dist-packages (4.44.2)\n",
      "Requirement already satisfied: pydantic in /usr/local/lib/python3.10/dist-packages (2.9.2)\n",
      "Requirement already satisfied: tensorflow in /usr/local/lib/python3.10/dist-packages (2.17.0)\n",
      "Collecting fastapi[all]\n",
      "  Downloading fastapi-0.115.0-py3-none-any.whl.metadata (27 kB)\n",
      "Collecting starlette<0.39.0,>=0.37.2 (from fastapi[all])\n",
      "  Downloading starlette-0.38.6-py3-none-any.whl.metadata (6.0 kB)\n",
      "Requirement already satisfied: typing-extensions>=4.8.0 in /usr/local/lib/python3.10/dist-packages (from fastapi[all]) (4.12.2)\n",
      "Collecting fastapi-cli>=0.0.5 (from fastapi-cli[standard]>=0.0.5; extra == \"all\"->fastapi[all])\n",
      "  Downloading fastapi_cli-0.0.5-py3-none-any.whl.metadata (7.0 kB)\n",
      "Collecting httpx>=0.23.0 (from fastapi[all])\n",
      "  Downloading httpx-0.27.2-py3-none-any.whl.metadata (7.1 kB)\n",
      "Requirement already satisfied: jinja2>=2.11.2 in /usr/local/lib/python3.10/dist-packages (from fastapi[all]) (3.1.4)\n",
      "Requirement already satisfied: itsdangerous>=1.1.0 in /usr/local/lib/python3.10/dist-packages (from fastapi[all]) (2.2.0)\n",
      "Requirement already satisfied: pyyaml>=5.3.1 in /usr/local/lib/python3.10/dist-packages (from fastapi[all]) (6.0.2)\n",
      "Collecting ujson!=4.0.2,!=4.1.0,!=4.2.0,!=4.3.0,!=5.0.0,!=5.1.0,>=4.0.1 (from fastapi[all])\n",
      "  Downloading ujson-5.10.0-cp310-cp310-manylinux_2_17_x86_64.manylinux2014_x86_64.whl.metadata (9.3 kB)\n",
      "Collecting orjson>=3.2.1 (from fastapi[all])\n",
      "  Downloading orjson-3.10.7-cp310-cp310-manylinux_2_17_x86_64.manylinux2014_x86_64.whl.metadata (50 kB)\n",
      "\u001b[2K     \u001b[90m━━━━━━━━━━━━━━━━━━━━━━━━━━━━━━━━━━━━━━━━\u001b[0m \u001b[32m50.4/50.4 kB\u001b[0m \u001b[31m4.2 MB/s\u001b[0m eta \u001b[36m0:00:00\u001b[0m\n",
      "\u001b[?25hCollecting email-validator>=2.0.0 (from fastapi[all])\n",
      "  Downloading email_validator-2.2.0-py3-none-any.whl.metadata (25 kB)\n",
      "Collecting pydantic-settings>=2.0.0 (from fastapi[all])\n",
      "  Downloading pydantic_settings-2.5.2-py3-none-any.whl.metadata (3.5 kB)\n",
      "Collecting pydantic-extra-types>=2.0.0 (from fastapi[all])\n",
      "  Downloading pydantic_extra_types-2.9.0-py3-none-any.whl.metadata (3.4 kB)\n",
      "Requirement already satisfied: click>=7.0 in /usr/local/lib/python3.10/dist-packages (from uvicorn) (8.1.7)\n",
      "Collecting h11>=0.8 (from uvicorn)\n",
      "  Downloading h11-0.14.0-py3-none-any.whl.metadata (8.2 kB)\n",
      "Requirement already satisfied: filelock in /usr/local/lib/python3.10/dist-packages (from transformers) (3.16.1)\n",
      "Requirement already satisfied: huggingface-hub<1.0,>=0.23.2 in /usr/local/lib/python3.10/dist-packages (from transformers) (0.24.7)\n",
      "Requirement already satisfied: numpy>=1.17 in /usr/local/lib/python3.10/dist-packages (from transformers) (1.26.4)\n",
      "Requirement already satisfied: packaging>=20.0 in /usr/local/lib/python3.10/dist-packages (from transformers) (24.1)\n",
      "Requirement already satisfied: regex!=2019.12.17 in /usr/local/lib/python3.10/dist-packages (from transformers) (2024.9.11)\n",
      "Requirement already satisfied: requests in /usr/local/lib/python3.10/dist-packages (from transformers) (2.32.3)\n",
      "Requirement already satisfied: safetensors>=0.4.1 in /usr/local/lib/python3.10/dist-packages (from transformers) (0.4.5)\n",
      "Requirement already satisfied: tokenizers<0.20,>=0.19 in /usr/local/lib/python3.10/dist-packages (from transformers) (0.19.1)\n",
      "Requirement already satisfied: tqdm>=4.27 in /usr/local/lib/python3.10/dist-packages (from transformers) (4.66.5)\n",
      "Requirement already satisfied: annotated-types>=0.6.0 in /usr/local/lib/python3.10/dist-packages (from pydantic) (0.7.0)\n",
      "Requirement already satisfied: pydantic-core==2.23.4 in /usr/local/lib/python3.10/dist-packages (from pydantic) (2.23.4)\n",
      "Requirement already satisfied: absl-py>=1.0.0 in /usr/local/lib/python3.10/dist-packages (from tensorflow) (1.4.0)\n",
      "Requirement already satisfied: astunparse>=1.6.0 in /usr/local/lib/python3.10/dist-packages (from tensorflow) (1.6.3)\n",
      "Requirement already satisfied: flatbuffers>=24.3.25 in /usr/local/lib/python3.10/dist-packages (from tensorflow) (24.3.25)\n",
      "Requirement already satisfied: gast!=0.5.0,!=0.5.1,!=0.5.2,>=0.2.1 in /usr/local/lib/python3.10/dist-packages (from tensorflow) (0.6.0)\n",
      "Requirement already satisfied: google-pasta>=0.1.1 in /usr/local/lib/python3.10/dist-packages (from tensorflow) (0.2.0)\n",
      "Requirement already satisfied: h5py>=3.10.0 in /usr/local/lib/python3.10/dist-packages (from tensorflow) (3.11.0)\n",
      "Requirement already satisfied: libclang>=13.0.0 in /usr/local/lib/python3.10/dist-packages (from tensorflow) (18.1.1)\n",
      "Requirement already satisfied: ml-dtypes<0.5.0,>=0.3.1 in /usr/local/lib/python3.10/dist-packages (from tensorflow) (0.4.1)\n",
      "Requirement already satisfied: opt-einsum>=2.3.2 in /usr/local/lib/python3.10/dist-packages (from tensorflow) (3.4.0)\n",
      "Requirement already satisfied: protobuf!=4.21.0,!=4.21.1,!=4.21.2,!=4.21.3,!=4.21.4,!=4.21.5,<5.0.0dev,>=3.20.3 in /usr/local/lib/python3.10/dist-packages (from tensorflow) (3.20.3)\n",
      "Requirement already satisfied: setuptools in /usr/local/lib/python3.10/dist-packages (from tensorflow) (71.0.4)\n",
      "Requirement already satisfied: six>=1.12.0 in /usr/local/lib/python3.10/dist-packages (from tensorflow) (1.16.0)\n",
      "Requirement already satisfied: termcolor>=1.1.0 in /usr/local/lib/python3.10/dist-packages (from tensorflow) (2.4.0)\n",
      "Requirement already satisfied: wrapt>=1.11.0 in /usr/local/lib/python3.10/dist-packages (from tensorflow) (1.16.0)\n",
      "Requirement already satisfied: grpcio<2.0,>=1.24.3 in /usr/local/lib/python3.10/dist-packages (from tensorflow) (1.64.1)\n",
      "Requirement already satisfied: tensorboard<2.18,>=2.17 in /usr/local/lib/python3.10/dist-packages (from tensorflow) (2.17.0)\n",
      "Requirement already satisfied: keras>=3.2.0 in /usr/local/lib/python3.10/dist-packages (from tensorflow) (3.4.1)\n",
      "Requirement already satisfied: tensorflow-io-gcs-filesystem>=0.23.1 in /usr/local/lib/python3.10/dist-packages (from tensorflow) (0.37.1)\n",
      "Requirement already satisfied: wheel<1.0,>=0.23.0 in /usr/local/lib/python3.10/dist-packages (from astunparse>=1.6.0->tensorflow) (0.44.0)\n",
      "Collecting dnspython>=2.0.0 (from email-validator>=2.0.0->fastapi[all])\n",
      "  Downloading dnspython-2.7.0-py3-none-any.whl.metadata (5.8 kB)\n",
      "Requirement already satisfied: idna>=2.0.0 in /usr/local/lib/python3.10/dist-packages (from email-validator>=2.0.0->fastapi[all]) (3.10)\n",
      "Requirement already satisfied: typer>=0.12.3 in /usr/local/lib/python3.10/dist-packages (from fastapi-cli>=0.0.5->fastapi-cli[standard]>=0.0.5; extra == \"all\"->fastapi[all]) (0.12.5)\n",
      "Requirement already satisfied: anyio in /usr/local/lib/python3.10/dist-packages (from httpx>=0.23.0->fastapi[all]) (3.7.1)\n",
      "Requirement already satisfied: certifi in /usr/local/lib/python3.10/dist-packages (from httpx>=0.23.0->fastapi[all]) (2024.8.30)\n",
      "Collecting httpcore==1.* (from httpx>=0.23.0->fastapi[all])\n",
      "  Downloading httpcore-1.0.6-py3-none-any.whl.metadata (21 kB)\n",
      "Requirement already satisfied: sniffio in /usr/local/lib/python3.10/dist-packages (from httpx>=0.23.0->fastapi[all]) (1.3.1)\n",
      "Requirement already satisfied: fsspec>=2023.5.0 in /usr/local/lib/python3.10/dist-packages (from huggingface-hub<1.0,>=0.23.2->transformers) (2024.6.1)\n",
      "Requirement already satisfied: MarkupSafe>=2.0 in /usr/local/lib/python3.10/dist-packages (from jinja2>=2.11.2->fastapi[all]) (2.1.5)\n",
      "Requirement already satisfied: rich in /usr/local/lib/python3.10/dist-packages (from keras>=3.2.0->tensorflow) (13.9.1)\n",
      "Requirement already satisfied: namex in /usr/local/lib/python3.10/dist-packages (from keras>=3.2.0->tensorflow) (0.0.8)\n",
      "Requirement already satisfied: optree in /usr/local/lib/python3.10/dist-packages (from keras>=3.2.0->tensorflow) (0.13.0)\n",
      "Collecting python-dotenv>=0.21.0 (from pydantic-settings>=2.0.0->fastapi[all])\n",
      "  Downloading python_dotenv-1.0.1-py3-none-any.whl.metadata (23 kB)\n",
      "Requirement already satisfied: charset-normalizer<4,>=2 in /usr/local/lib/python3.10/dist-packages (from requests->transformers) (3.3.2)\n",
      "Requirement already satisfied: urllib3<3,>=1.21.1 in /usr/local/lib/python3.10/dist-packages (from requests->transformers) (2.2.3)\n",
      "Requirement already satisfied: markdown>=2.6.8 in /usr/local/lib/python3.10/dist-packages (from tensorboard<2.18,>=2.17->tensorflow) (3.7)\n",
      "Requirement already satisfied: tensorboard-data-server<0.8.0,>=0.7.0 in /usr/local/lib/python3.10/dist-packages (from tensorboard<2.18,>=2.17->tensorflow) (0.7.2)\n",
      "Requirement already satisfied: werkzeug>=1.0.1 in /usr/local/lib/python3.10/dist-packages (from tensorboard<2.18,>=2.17->tensorflow) (3.0.4)\n",
      "Collecting httptools>=0.5.0 (from uvicorn[standard]>=0.12.0; extra == \"all\"->fastapi[all])\n",
      "  Downloading httptools-0.6.1-cp310-cp310-manylinux_2_5_x86_64.manylinux1_x86_64.manylinux_2_17_x86_64.manylinux2014_x86_64.whl.metadata (3.6 kB)\n",
      "Collecting uvloop!=0.15.0,!=0.15.1,>=0.14.0 (from uvicorn[standard]>=0.12.0; extra == \"all\"->fastapi[all])\n",
      "  Downloading uvloop-0.20.0-cp310-cp310-manylinux_2_17_x86_64.manylinux2014_x86_64.whl.metadata (4.9 kB)\n",
      "Collecting watchfiles>=0.13 (from uvicorn[standard]>=0.12.0; extra == \"all\"->fastapi[all])\n",
      "  Downloading watchfiles-0.24.0-cp310-cp310-manylinux_2_17_x86_64.manylinux2014_x86_64.whl.metadata (4.9 kB)\n",
      "Collecting websockets>=10.4 (from uvicorn[standard]>=0.12.0; extra == \"all\"->fastapi[all])\n",
      "  Downloading websockets-13.1-cp310-cp310-manylinux_2_5_x86_64.manylinux1_x86_64.manylinux_2_17_x86_64.manylinux2014_x86_64.whl.metadata (6.8 kB)\n",
      "Requirement already satisfied: exceptiongroup in /usr/local/lib/python3.10/dist-packages (from anyio->httpx>=0.23.0->fastapi[all]) (1.2.2)\n",
      "Requirement already satisfied: shellingham>=1.3.0 in /usr/local/lib/python3.10/dist-packages (from typer>=0.12.3->fastapi-cli>=0.0.5->fastapi-cli[standard]>=0.0.5; extra == \"all\"->fastapi[all]) (1.5.4)\n",
      "Requirement already satisfied: markdown-it-py>=2.2.0 in /usr/local/lib/python3.10/dist-packages (from rich->keras>=3.2.0->tensorflow) (3.0.0)\n",
      "Requirement already satisfied: pygments<3.0.0,>=2.13.0 in /usr/local/lib/python3.10/dist-packages (from rich->keras>=3.2.0->tensorflow) (2.18.0)\n",
      "Requirement already satisfied: mdurl~=0.1 in /usr/local/lib/python3.10/dist-packages (from markdown-it-py>=2.2.0->rich->keras>=3.2.0->tensorflow) (0.1.2)\n",
      "Downloading uvicorn-0.31.0-py3-none-any.whl (63 kB)\n",
      "\u001b[2K   \u001b[90m━━━━━━━━━━━━━━━━━━━━━━━━━━━━━━━━━━━━━━━━\u001b[0m \u001b[32m63.7/63.7 kB\u001b[0m \u001b[31m6.2 MB/s\u001b[0m eta \u001b[36m0:00:00\u001b[0m\n",
      "\u001b[?25hDownloading python_multipart-0.0.12-py3-none-any.whl (23 kB)\n",
      "Downloading email_validator-2.2.0-py3-none-any.whl (33 kB)\n",
      "Downloading fastapi_cli-0.0.5-py3-none-any.whl (9.5 kB)\n",
      "Downloading h11-0.14.0-py3-none-any.whl (58 kB)\n",
      "\u001b[2K   \u001b[90m━━━━━━━━━━━━━━━━━━━━━━━━━━━━━━━━━━━━━━━━\u001b[0m \u001b[32m58.3/58.3 kB\u001b[0m \u001b[31m6.1 MB/s\u001b[0m eta \u001b[36m0:00:00\u001b[0m\n",
      "\u001b[?25hDownloading httpx-0.27.2-py3-none-any.whl (76 kB)\n",
      "\u001b[2K   \u001b[90m━━━━━━━━━━━━━━━━━━━━━━━━━━━━━━━━━━━━━━━━\u001b[0m \u001b[32m76.4/76.4 kB\u001b[0m \u001b[31m7.7 MB/s\u001b[0m eta \u001b[36m0:00:00\u001b[0m\n",
      "\u001b[?25hDownloading httpcore-1.0.6-py3-none-any.whl (78 kB)\n",
      "\u001b[2K   \u001b[90m━━━━━━━━━━━━━━━━━━━━━━━━━━━━━━━━━━━━━━━━\u001b[0m \u001b[32m78.0/78.0 kB\u001b[0m \u001b[31m8.7 MB/s\u001b[0m eta \u001b[36m0:00:00\u001b[0m\n",
      "\u001b[?25hDownloading orjson-3.10.7-cp310-cp310-manylinux_2_17_x86_64.manylinux2014_x86_64.whl (141 kB)\n",
      "\u001b[2K   \u001b[90m━━━━━━━━━━━━━━━━━━━━━━━━━━━━━━━━━━━━━━━━\u001b[0m \u001b[32m141.9/141.9 kB\u001b[0m \u001b[31m14.6 MB/s\u001b[0m eta \u001b[36m0:00:00\u001b[0m\n",
      "\u001b[?25hDownloading pydantic_extra_types-2.9.0-py3-none-any.whl (30 kB)\n",
      "Downloading pydantic_settings-2.5.2-py3-none-any.whl (26 kB)\n",
      "Downloading starlette-0.38.6-py3-none-any.whl (71 kB)\n",
      "\u001b[2K   \u001b[90m━━━━━━━━━━━━━━━━━━━━━━━━━━━━━━━━━━━━━━━━\u001b[0m \u001b[32m71.5/71.5 kB\u001b[0m \u001b[31m7.1 MB/s\u001b[0m eta \u001b[36m0:00:00\u001b[0m\n",
      "\u001b[?25hDownloading ujson-5.10.0-cp310-cp310-manylinux_2_17_x86_64.manylinux2014_x86_64.whl (53 kB)\n",
      "\u001b[2K   \u001b[90m━━━━━━━━━━━━━━━━━━━━━━━━━━━━━━━━━━━━━━━━\u001b[0m \u001b[32m53.6/53.6 kB\u001b[0m \u001b[31m5.8 MB/s\u001b[0m eta \u001b[36m0:00:00\u001b[0m\n",
      "\u001b[?25hDownloading fastapi-0.115.0-py3-none-any.whl (94 kB)\n",
      "\u001b[2K   \u001b[90m━━━━━━━━━━━━━━━━━━━━━━━━━━━━━━━━━━━━━━━━\u001b[0m \u001b[32m94.6/94.6 kB\u001b[0m \u001b[31m9.2 MB/s\u001b[0m eta \u001b[36m0:00:00\u001b[0m\n",
      "\u001b[?25hDownloading dnspython-2.7.0-py3-none-any.whl (313 kB)\n",
      "\u001b[2K   \u001b[90m━━━━━━━━━━━━━━━━━━━━━━━━━━━━━━━━━━━━━━━━\u001b[0m \u001b[32m313.6/313.6 kB\u001b[0m \u001b[31m29.6 MB/s\u001b[0m eta \u001b[36m0:00:00\u001b[0m\n",
      "\u001b[?25hDownloading httptools-0.6.1-cp310-cp310-manylinux_2_5_x86_64.manylinux1_x86_64.manylinux_2_17_x86_64.manylinux2014_x86_64.whl (341 kB)\n",
      "\u001b[2K   \u001b[90m━━━━━━━━━━━━━━━━━━━━━━━━━━━━━━━━━━━━━━━━\u001b[0m \u001b[32m341.4/341.4 kB\u001b[0m \u001b[31m29.7 MB/s\u001b[0m eta \u001b[36m0:00:00\u001b[0m\n",
      "\u001b[?25hDownloading python_dotenv-1.0.1-py3-none-any.whl (19 kB)\n",
      "Downloading uvloop-0.20.0-cp310-cp310-manylinux_2_17_x86_64.manylinux2014_x86_64.whl (3.4 MB)\n",
      "\u001b[2K   \u001b[90m━━━━━━━━━━━━━━━━━━━━━━━━━━━━━━━━━━━━━━━━\u001b[0m \u001b[32m3.4/3.4 MB\u001b[0m \u001b[31m97.2 MB/s\u001b[0m eta \u001b[36m0:00:00\u001b[0m\n",
      "\u001b[?25hDownloading watchfiles-0.24.0-cp310-cp310-manylinux_2_17_x86_64.manylinux2014_x86_64.whl (425 kB)\n",
      "\u001b[2K   \u001b[90m━━━━━━━━━━━━━━━━━━━━━━━━━━━━━━━━━━━━━━━━\u001b[0m \u001b[32m425.7/425.7 kB\u001b[0m \u001b[31m37.1 MB/s\u001b[0m eta \u001b[36m0:00:00\u001b[0m\n",
      "\u001b[?25hDownloading websockets-13.1-cp310-cp310-manylinux_2_5_x86_64.manylinux1_x86_64.manylinux_2_17_x86_64.manylinux2014_x86_64.whl (164 kB)\n",
      "\u001b[2K   \u001b[90m━━━━━━━━━━━━━━━━━━━━━━━━━━━━━━━━━━━━━━━━\u001b[0m \u001b[32m164.1/164.1 kB\u001b[0m \u001b[31m17.8 MB/s\u001b[0m eta \u001b[36m0:00:00\u001b[0m\n",
      "\u001b[?25hInstalling collected packages: websockets, uvloop, ujson, python-multipart, python-dotenv, orjson, httptools, h11, dnspython, watchfiles, uvicorn, starlette, httpcore, email-validator, pydantic-settings, pydantic-extra-types, httpx, fastapi, fastapi-cli\n",
      "Successfully installed dnspython-2.7.0 email-validator-2.2.0 fastapi-0.115.0 fastapi-cli-0.0.5 h11-0.14.0 httpcore-1.0.6 httptools-0.6.1 httpx-0.27.2 orjson-3.10.7 pydantic-extra-types-2.9.0 pydantic-settings-2.5.2 python-dotenv-1.0.1 python-multipart-0.0.12 starlette-0.38.6 ujson-5.10.0 uvicorn-0.31.0 uvloop-0.20.0 watchfiles-0.24.0 websockets-13.1\n"
     ]
    }
   ],
   "source": [
    "# If this complains about dependency resolver, it's safe to ignore\n",
    "!pip install fastapi[all] uvicorn python-multipart transformers pydantic tensorflow"
   ]
  },
  {
   "cell_type": "markdown",
   "metadata": {
    "id": "WPOYhvtAHiW3"
   },
   "source": [
    "Ngrok is used to make the FastAPI server accessible via a public URL.\n",
    "\n",
    "Users are required to make a free account and provide their auth token to use Ngrok. The free version only allows 1 local tunnel and the auth token is used to track this usage limit."
   ]
  },
  {
   "cell_type": "code",
   "execution_count": 4,
   "metadata": {
    "colab": {
     "base_uri": "https://localhost:8080/"
    },
    "id": "Nw3LWCfNcg9E",
    "outputId": "3c6012a5-b57d-4076-9110-c05c5025789c"
   },
   "outputs": [
    {
     "name": "stdout",
     "output_type": "stream",
     "text": [
      "Authtoken saved to configuration file: /root/.config/ngrok/ngrok.yml\n"
     ]
    }
   ],
   "source": [
    "# https://dashboard.ngrok.com/signup\n",
    "!ngrok authtoken 2nAJihMph2fGiVV9JdMJ172mRKp_4XVrKuj3jPuuT4RR4ArSM"
   ]
  },
  {
   "cell_type": "markdown",
   "metadata": {
    "id": "vUqG0_-6IChq"
   },
   "source": [
    "## Create FastAPI App\n",
    "This provides an API to the Llama 2 model. The model version can be changed in the code below as desired.\n",
    "\n",
    "For this demo we will use the 13 billion parameter version which is finetuned for instruction (chat) following.\n",
    "\n",
    "Despite the compression, it is still a more powerful model than the 7B variant."
   ]
  },
  {
   "cell_type": "code",
   "execution_count": 12,
   "metadata": {
    "colab": {
     "base_uri": "https://localhost:8080/"
    },
    "id": "Z6F078OHVssf",
    "outputId": "8c1a8f34-aa6b-4699-ebeb-bafc9493b448"
   },
   "outputs": [
    {
     "name": "stdout",
     "output_type": "stream",
     "text": [
      "Writing app.py\n"
     ]
    }
   ],
   "source": [
    "%%writefile app.py\n",
    "from typing import Any\n",
    "\n",
    "from fastapi import FastAPI\n",
    "from fastapi import HTTPException\n",
    "from pydantic import BaseModel\n",
    "from huggingface_hub import hf_hub_download\n",
    "from llama_cpp import Llama\n",
    "import tensorflow as tf\n",
    "\n",
    "\n",
    "# GGML model required to fit Llama2-13B on a T4 GPU\n",
    "GENERATIVE_AI_MODEL_REPO = \"TheBloke/Llama-2-7B-Chat-GGUF\"\n",
    "GENERATIVE_AI_MODEL_FILE = \"llama-2-7b-chat.Q5_0.gguf\"\n",
    "\n",
    "model_path = hf_hub_download(\n",
    "    repo_id=GENERATIVE_AI_MODEL_REPO,\n",
    "    filename=GENERATIVE_AI_MODEL_FILE\n",
    ")\n",
    "\n",
    "llama2_model = Llama(\n",
    "    model_path=model_path,\n",
    "    n_gpu_layers=64,\n",
    "    n_ctx=2000\n",
    ")\n",
    "\n",
    "# Test an inference\n",
    "print(llama2_model(prompt=\"Hello \", max_tokens=1))\n",
    "\n",
    "\n",
    "app = FastAPI()\n",
    "\n",
    "\n",
    "# This defines the data json format expected for the endpoint, change as needed\n",
    "class TextInput(BaseModel):\n",
    "    inputs: str\n",
    "    parameters: dict[str, Any] | None\n",
    "\n",
    "\n",
    "@app.get(\"/\")\n",
    "def status_gpu_check() -> dict[str, str]:\n",
    "    gpu_msg = \"Available\" if tf.test.is_gpu_available() else \"Unavailable\"\n",
    "    return {\n",
    "        \"status\": \"I am ALIVE!\",\n",
    "        \"gpu\": gpu_msg\n",
    "    }\n",
    "\n",
    "\n",
    "@app.post(\"/generate/\")\n",
    "async def generate_text(data: TextInput) -> dict[str, str]:\n",
    "    try:\n",
    "        params = data.parameters or {}\n",
    "        response = llama2_model(prompt=data.inputs, **params)\n",
    "        model_out = response['choices'][0]['text']\n",
    "        return {\"generated_text\": model_out}\n",
    "    except Exception as e:\n",
    "        raise HTTPException(status_code=500, detail=str(e))"
   ]
  },
  {
   "cell_type": "markdown",
   "metadata": {
    "id": "PikyQUQKIewj"
   },
   "source": [
    "## Start FastAPI Server\n",
    "The initial run will take a long time due to having to download the model and load it onto GPU.\n",
    "\n",
    "Note: interrupting the Google Colab runtime will send a SIGINT and stop the server."
   ]
  },
  {
   "cell_type": "code",
   "execution_count": 13,
   "metadata": {
    "id": "HErEYVtPcGg9"
   },
   "outputs": [],
   "source": [
    "# This cell finishes quickly because it just needs to start up the server\n",
    "# The server will start the model download and will take a while to start up\n",
    "# ~5 minutes\n",
    "!uvicorn app:app --host 0.0.0.0 --port 8000 > server.log 2>&1 &"
   ]
  },
  {
   "cell_type": "markdown",
   "metadata": {
    "id": "tunHZmTHX98z"
   },
   "source": [
    "Check the logs at server.log to see progress.\n",
    "\n",
    "Wait until model is loaded and check with the next cell before moving on."
   ]
  },
  {
   "cell_type": "code",
   "execution_count": 14,
   "metadata": {
    "colab": {
     "base_uri": "https://localhost:8080/"
    },
    "id": "pJUJ4vICfQ7a",
    "outputId": "92f51c4a-1125-4730-a501-e0785a91699f"
   },
   "outputs": [
    {
     "name": "stdout",
     "output_type": "stream",
     "text": [
      "curl: (7) Failed to connect to localhost port 8000 after 0 ms: Connection refused\n"
     ]
    }
   ],
   "source": [
    "# If you see \"Failed to connect\", it's because the server is still starting up\n",
    "# Wait for the model to be downloaded and the server to fully start\n",
    "# Check the server.log file to see the status\n",
    "!curl localhost:8000"
   ]
  },
  {
   "cell_type": "markdown",
   "metadata": {
    "id": "csO2FA7LKWXw"
   },
   "source": [
    "## Use Ngrok to create a public URL for the FastAPI server.\n",
    "**IMPORTANT:** If you created an account via email, please verify your email or the next 2 cells won't work.\n",
    "\n",
    "If you signed up via Google or GitHub account, you're good to go."
   ]
  },
  {
   "cell_type": "code",
   "execution_count": 8,
   "metadata": {
    "id": "c-FpVEkifNdS"
   },
   "outputs": [],
   "source": [
    "# This starts Ngrok and creates the public URL\n",
    "from IPython import get_ipython\n",
    "get_ipython().system_raw('ngrok http 8000 &')"
   ]
  },
  {
   "cell_type": "markdown",
   "metadata": {
    "id": "XxzFtg3_Kfot"
   },
   "source": [
    "Check the URL generated by the next cell, it should report that the FastAPI server is alive and that GPU is available.\n",
    "\n",
    "To hit the model endpoint, simply add `/generate` to the URL"
   ]
  },
  {
   "cell_type": "code",
   "execution_count": 15,
   "metadata": {
    "colab": {
     "base_uri": "https://localhost:8080/"
    },
    "id": "aCAIkVuxc3JU",
    "outputId": "76ae8936-fcf8-448e-ac38-7999be9539bb"
   },
   "outputs": [
    {
     "name": "stdout",
     "output_type": "stream",
     "text": [
      "https://3da8-35-247-169-220.ngrok-free.app\n"
     ]
    }
   ],
   "source": [
    "# Get the Public URL\n",
    "# If this doesn't work, make sure you verified your email\n",
    "# Then run the previous code cell and this one again\n",
    "!curl -s http://localhost:4040/api/tunnels | python3 -c \"import sys, json; print(json.load(sys.stdin)['tunnels'][0]['public_url'])\""
   ]
  },
  {
   "cell_type": "markdown",
   "metadata": {
    "id": "liqVEsGfZPse"
   },
   "source": [
    "## Shutting Down\n",
    "To shut down the processes, run the following commands in a new cell:\n",
    "```\n",
    "!pkill uvicorn\n",
    "!pkill ngrok\n",
    "```"
   ]
  }
 ],
 "metadata": {
  "accelerator": "GPU",
  "colab": {
   "gpuType": "T4",
   "provenance": []
  },
  "kernelspec": {
   "display_name": "Python 3 (ipykernel)",
   "language": "python",
   "name": "python3"
  },
  "language_info": {
   "codemirror_mode": {
    "name": "ipython",
    "version": 3
   },
   "file_extension": ".py",
   "mimetype": "text/x-python",
   "name": "python",
   "nbconvert_exporter": "python",
   "pygments_lexer": "ipython3",
   "version": "3.11.10"
  }
 },
 "nbformat": 4,
 "nbformat_minor": 4
}
